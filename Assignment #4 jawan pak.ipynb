{
 "cells": [
  {
   "cell_type": "code",
   "execution_count": 12,
   "id": "768b7d60",
   "metadata": {},
   "outputs": [
    {
     "name": "stdout",
     "output_type": "stream",
     "text": [
      "Please select operation -\n",
      "1. Add\n",
      "2. Subtract\n",
      "3. Multiply\n",
      "4. Divide\n",
      "5. power\n",
      "\n",
      "Select operations from 1, 2, 3, 4,5 :2\n",
      "Enter first number: 4\n",
      "Enter second number: 2\n",
      "4 - 2 = 2\n"
     ]
    }
   ],
   "source": [
    "#Q1 Make a calculator using Python with addition , subtraction ,multiplication ,division and power.\n",
    "# Function to add two numbers\n",
    "def add(num1, num2):\n",
    "    return num1 + num2\n",
    "  \n",
    "# Function to subtract two numbers \n",
    "def subtract(num1, num2):\n",
    "    return num1 - num2\n",
    "  \n",
    "# Function to multiply two numbers\n",
    "def multiply(num1, num2):\n",
    "    return num1 * num2\n",
    "  \n",
    "# Function to divide two numbers\n",
    "def divide(num1, num2):\n",
    "    return num1 / num2\n",
    "\n",
    "# Function to power two numbers\n",
    "def power(num1, num2):\n",
    "    return num1 * num2\n",
    "  \n",
    "print(\"Please select operation -\\n\" \\\n",
    "        \"1. Add\\n\" \\\n",
    "        \"2. Subtract\\n\" \\\n",
    "        \"3. Multiply\\n\" \\\n",
    "        \"4. Divide\\n\"\\\n",
    "        \"5. power\\n\" \n",
    "  \n",
    "  \n",
    "# Take input from the user \n",
    "select = int(input(\"Select operations from 1, 2, 3, 4, 5 :\"))\n",
    "  \n",
    "number1 = int(input(\"Enter first number: \"))\n",
    "number2 = int(input(\"Enter second number: \"))\n",
    "  \n",
    "if select == 1:\n",
    "    print(number1, \"+\", number2, \"=\",\n",
    "                    add(number1, number2))\n",
    "  \n",
    "elif select == 2:\n",
    "    print(number1, \"-\", number2, \"=\",\n",
    "                    subtract(number1, number2))\n",
    "  \n",
    "elif select == 3:\n",
    "    print(number1, \"*\", number_2, \"=\",\n",
    "                    multiply(number1, number2))\n",
    "  \n",
    "elif select == 4:\n",
    "    print(number1, \"/\", number2, \"=\",\n",
    "                    divide(number1, number2))\n",
    "elif select == 5:\n",
    "    print(number1, \"*\", number2, \"=\",\n",
    "                    power(number1, number2))\n",
    "else:\n",
    "    print(\"Invalid input\")"
   ]
  },
  {
   "cell_type": "code",
   "execution_count": 34,
   "id": "14cf72e6",
   "metadata": {},
   "outputs": [
    {
     "name": "stdout",
     "output_type": "stream",
     "text": [
      "4\n"
     ]
    }
   ],
   "source": [
    "#Q2 Write a program to check if there is any numeric value in list using for loop.\n",
    "list = [\"waqas\", \"vicky\", 4, \"class\"] \n",
    "for i in list: \n",
    "    if type(i) == int: \n",
    "        print(i)"
   ]
  },
  {
   "cell_type": "code",
   "execution_count": 36,
   "id": "1777f691",
   "metadata": {},
   "outputs": [
    {
     "name": "stdout",
     "output_type": "stream",
     "text": [
      "{0: 12345, 1: 234566}\n",
      "{0: 12345, 1: 234566, 2: 644536}\n"
     ]
    }
   ],
   "source": [
    "#Q3 Write a Python script to add a key to a dictionary.\n",
    "d = {0:12345, 1:234566}\n",
    "print(d)\n",
    "d.update({2:644536})\n",
    "print(d)"
   ]
  },
  {
   "cell_type": "code",
   "execution_count": 37,
   "id": "ac71549e",
   "metadata": {},
   "outputs": [
    {
     "name": "stdout",
     "output_type": "stream",
     "text": [
      "4100\n"
     ]
    }
   ],
   "source": [
    "#Q4 Write a Python program to sum all the numeric items in a dictionary.\n",
    "my_dict = {'data1':5000,'data2':-600,'data3':-300}\n",
    "print(sum(my_dict.values()))\n"
   ]
  },
  {
   "cell_type": "code",
   "execution_count": 38,
   "id": "997f5785",
   "metadata": {},
   "outputs": [
    {
     "name": "stdout",
     "output_type": "stream",
     "text": [
      "2 3 4 5 "
     ]
    }
   ],
   "source": [
    "#Q5 Write a program to identify duplicate values from list.\n",
    "l=[1,2,3,4,5,2,3,4,7,9,5]\n",
    "l1=[]\n",
    "for i in l:\n",
    "    if i not in l1:\n",
    "        l1.append(i)\n",
    "    else:\n",
    "        print(i,end=' ')"
   ]
  },
  {
   "cell_type": "code",
   "execution_count": 50,
   "id": "98581639",
   "metadata": {},
   "outputs": [
    {
     "name": "stdout",
     "output_type": "stream",
     "text": [
      "\n",
      "Original dictionary elements:\n",
      "{'waqas': 19, 'vicky': 22, 'asad': 21, 'afzal': 20}\n",
      "True\n",
      "True\n"
     ]
    }
   ],
   "source": [
    "#Q6 Write a Python script to check if a given key already exists in a dictionary\n",
    "def key_in_dict(d, key):\n",
    "  return (key in d) \n",
    "students = {'waqas': 19,'vicky': 22,'asad': 21,'afzal': 20}\n",
    "print(\"\\nOriginal dictionary elements:\")\n",
    "print(students)\n",
    "print(key_in_dict(students, 'waqas'))\n",
    "print(key_in_dict(students, 'vicky'))"
   ]
  },
  {
   "cell_type": "code",
   "execution_count": null,
   "id": "6f36960c",
   "metadata": {},
   "outputs": [],
   "source": []
  }
 ],
 "metadata": {
  "kernelspec": {
   "display_name": "Python 3",
   "language": "python",
   "name": "python3"
  },
  "language_info": {
   "codemirror_mode": {
    "name": "ipython",
    "version": 3
   },
   "file_extension": ".py",
   "mimetype": "text/x-python",
   "name": "python",
   "nbconvert_exporter": "python",
   "pygments_lexer": "ipython3",
   "version": "3.8.8"
  }
 },
 "nbformat": 4,
 "nbformat_minor": 5
}
